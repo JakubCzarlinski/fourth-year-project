{
 "cells": [
  {
   "cell_type": "code",
   "execution_count": 3,
   "metadata": {},
   "outputs": [
    {
     "data": {
      "text/plain": [
       "True"
      ]
     },
     "execution_count": 3,
     "metadata": {},
     "output_type": "execute_result"
    }
   ],
   "source": [
    "\n",
    "import numpy as np\n",
    "import cv2\n",
    "import matplotlib.pyplot as plt\n",
    "\n",
    "import torch\n",
    "from torchvision.models.segmentation import deeplabv3_resnet101\n",
    "from torchvision import transforms\n",
    "\n",
    "def make_deeplab(device):\n",
    "    deeplab = deeplabv3_resnet101(pretrained=True).to(device)\n",
    "    deeplab.eval()\n",
    "    return deeplab\n",
    "\n",
    "def apply_deeplab(deeplab, img, device):\n",
    "    input_tensor = deeplab_preprocess(img)\n",
    "    input_batch = input_tensor.unsqueeze(0)\n",
    "    with torch.no_grad():\n",
    "        output = deeplab(input_batch.to(device))['out'][0]\n",
    "    output_predictions = output.argmax(0).cpu().numpy()\n",
    "    return (output_predictions == 15)\n",
    "\n",
    "device = torch.device(\"cpu\")\n",
    "deeplab = make_deeplab(device)\n",
    "\n",
    "path = \"./images/\"\n",
    "filename = \"009.png\"\n",
    "img_orig = cv2.imread(path+filename, 1)\n",
    "\n",
    "k = min(1.0, 1024/max(img_orig.shape[0], img_orig.shape[1]))\n",
    "img = cv2.resize(img_orig, None, fx=k, fy=k, interpolation=cv2.INTER_LANCZOS4)\n",
    "\n",
    "\n",
    "deeplab_preprocess = transforms.Compose([\n",
    "    transforms.ToTensor(),\n",
    "    transforms.Normalize(mean=[0.485, 0.456, 0.406], std=[0.229, 0.224, 0.225]),\n",
    "])\n",
    "\n",
    "mask = apply_deeplab(deeplab, img, device)\n",
    "mask.dtype = 'uint8'\n",
    "mask *= 255\n",
    "cv2.imwrite(f'./images/{filename[:-4]}_masked.png', mask)"
   ]
  }
 ],
 "metadata": {
  "kernelspec": {
   "display_name": "myenv",
   "language": "python",
   "name": "python3"
  },
  "language_info": {
   "codemirror_mode": {
    "name": "ipython",
    "version": 3
   },
   "file_extension": ".py",
   "mimetype": "text/x-python",
   "name": "python",
   "nbconvert_exporter": "python",
   "pygments_lexer": "ipython3",
   "version": "3.9.20"
  }
 },
 "nbformat": 4,
 "nbformat_minor": 2
}
